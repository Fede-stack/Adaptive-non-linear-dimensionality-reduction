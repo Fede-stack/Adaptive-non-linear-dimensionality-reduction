{
 "cells": [
  {
   "cell_type": "code",
   "execution_count": 1,
   "id": "2e6bfaf9",
   "metadata": {},
   "outputs": [],
   "source": [
    "import pandas as pd\n",
    "from sklearn.cluster import KMeans, SpectralClustering\n",
    "from AdaptiveSpectralClustering import *\n",
    "\n",
    "rng = np.random.default_rng()\n",
    "\n",
    "import warnings\n",
    "warnings.filterwarnings('ignore')"
   ]
  },
  {
   "cell_type": "code",
   "execution_count": 2,
   "id": "2c7d2c49",
   "metadata": {},
   "outputs": [],
   "source": [
    "data = pd.read_csv('df_file.csv')\n",
    "sentences = data.Text.values\n",
    "labels = data.Label.values\n",
    "\n",
    "from sentence_transformers import SentenceTransformer\n",
    "\n",
    "model = SentenceTransformer('sentence-transformers/all-mpnet-base-v2')\n",
    "X = model.encode(sentences)\n",
    "\n",
    "from sklearn.preprocessing import LabelEncoder\n",
    "sc = LabelEncoder()\n",
    "y = sc.fit_transform(labels)"
   ]
  },
  {
   "cell_type": "code",
   "execution_count": 3,
   "id": "2acd1218",
   "metadata": {},
   "outputs": [
    {
     "name": "stderr",
     "output_type": "stream",
     "text": [
      "huggingface/tokenizers: The current process just got forked, after parallelism has already been used. Disabling parallelism to avoid deadlocks...\n",
      "To disable this warning, you can either:\n",
      "\t- Avoid using `tokenizers` before the fork if possible\n",
      "\t- Explicitly set the environment variable TOKENIZERS_PARALLELISM=(true | false)\n"
     ]
    },
    {
     "name": "stdout",
     "output_type": "stream",
     "text": [
      "iteration  0\n",
      "id  [1.41]\n",
      "iteration  1\n",
      "id  [5.44]\n",
      "iteration  2\n",
      "id  [9.44]\n",
      "iteration  3\n",
      "id  [10.04]\n",
      "iteration  4\n",
      "id  [10.1]\n",
      "iteration  5\n",
      "id  [10.08]\n",
      "iteration  6\n",
      "id  [10.09]\n",
      "iteration  7\n",
      "id  [10.08]\n",
      "iteration  8\n",
      "id  [10.09]\n",
      "iteration  9\n",
      "id  [10.08]\n"
     ]
    }
   ],
   "source": [
    "asc = AdaptiveSpectralClustering(X, n_iter=10)\n",
    "labels = asc.fit(n_clusters=5)"
   ]
  },
  {
   "cell_type": "code",
   "execution_count": 4,
   "id": "083ae677",
   "metadata": {},
   "outputs": [
    {
     "name": "stdout",
     "output_type": "stream",
     "text": [
      "0.46214602302838104\n",
      "(0.4983106439932837, 0.7287541886632845, 0.5918936952653125)\n"
     ]
    }
   ],
   "source": [
    "from sklearn.metrics import adjusted_rand_score, homogeneity_completeness_v_measure\n",
    "print(adjusted_rand_score(y, labels))\n",
    "print(homogeneity_completeness_v_measure(y, labels))"
   ]
  },
  {
   "cell_type": "markdown",
   "id": "e3fe7e94",
   "metadata": {},
   "source": [
    "# Standard Spectral Clustering"
   ]
  },
  {
   "cell_type": "code",
   "execution_count": 6,
   "id": "a3bc12df",
   "metadata": {},
   "outputs": [
    {
     "name": "stdout",
     "output_type": "stream",
     "text": [
      "0.5182062822077403\n",
      "(0.6111563292665558, 0.7618149665372296, 0.6782196247688423)\n"
     ]
    }
   ],
   "source": [
    "sc = SpectralClustering(random_state=0, n_clusters = 5, affinity='nearest_neighbors')\n",
    "preds_sc = sc.fit_predict(X)\n",
    "\n",
    "print(adjusted_rand_score(y, preds_sc))\n",
    "print(homogeneity_completeness_v_measure(y, preds_sc))"
   ]
  }
 ],
 "metadata": {
  "kernelspec": {
   "display_name": "Python 3 (ipykernel)",
   "language": "python",
   "name": "python3"
  },
  "language_info": {
   "codemirror_mode": {
    "name": "ipython",
    "version": 3
   },
   "file_extension": ".py",
   "mimetype": "text/x-python",
   "name": "python",
   "nbconvert_exporter": "python",
   "pygments_lexer": "ipython3",
   "version": "3.10.13"
  }
 },
 "nbformat": 4,
 "nbformat_minor": 5
}
