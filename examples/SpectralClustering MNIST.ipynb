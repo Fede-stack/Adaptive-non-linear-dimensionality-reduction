{
 "cells": [
  {
   "cell_type": "code",
   "execution_count": 1,
   "id": "2e6bfaf9",
   "metadata": {},
   "outputs": [],
   "source": [
    "import pandas as pd\n",
    "from sklearn.cluster import KMeans, SpectralClustering\n",
    "from AdaptiveSpectralClustering import *\n",
    "\n",
    "rng = np.random.default_rng()\n",
    "\n",
    "import warnings\n",
    "warnings.filterwarnings('ignore')"
   ]
  },
  {
   "cell_type": "code",
   "execution_count": 2,
   "id": "9d3a2d54",
   "metadata": {},
   "outputs": [],
   "source": [
    "data = pd.read_csv('mnist_test.csv')\n",
    "X = data.iloc[:, 1:].values.astype(np.float32)\n",
    "y = data.iloc[:, 0].values"
   ]
  },
  {
   "cell_type": "code",
   "execution_count": 3,
   "id": "2acd1218",
   "metadata": {},
   "outputs": [
    {
     "name": "stdout",
     "output_type": "stream",
     "text": [
      "iteration  0\n",
      "id  [13.56]\n",
      "iteration  1\n",
      "id  [11.65]\n",
      "iteration  2\n",
      "id  [11.56]\n",
      "iteration  3\n",
      "id  [11.56]\n",
      "iteration  4\n",
      "id  [11.56]\n",
      "iteration  5\n",
      "id  [11.56]\n",
      "iteration  6\n",
      "id  [11.56]\n",
      "iteration  7\n",
      "id  [11.56]\n",
      "iteration  8\n",
      "id  [11.56]\n",
      "iteration  9\n",
      "id  [11.56]\n"
     ]
    }
   ],
   "source": [
    "asc = AdaptiveSpectralClustering(X, n_iter=10)\n",
    "labels = asc.fit(n_clusters=10)"
   ]
  },
  {
   "cell_type": "code",
   "execution_count": 4,
   "id": "44138e0a",
   "metadata": {},
   "outputs": [
    {
     "name": "stdout",
     "output_type": "stream",
     "text": [
      "0.588920381713201\n",
      "(0.7252090971340145, 0.8446271970391757, 0.7803760548194297)\n"
     ]
    }
   ],
   "source": [
    "from sklearn.metrics import adjusted_rand_score, homogeneity_completeness_v_measure\n",
    "print(adjusted_rand_score(y, labels))\n",
    "print(homogeneity_completeness_v_measure(y, labels))"
   ]
  },
  {
   "cell_type": "markdown",
   "id": "c0e5b43b",
   "metadata": {},
   "source": [
    "# Standard LLE"
   ]
  },
  {
   "cell_type": "code",
   "execution_count": 6,
   "id": "ffc45cd3",
   "metadata": {},
   "outputs": [
    {
     "name": "stdout",
     "output_type": "stream",
     "text": [
      "0.5628851287095378\n",
      "(0.7012873812832684, 0.7223280162448155, 0.7116522114321566)\n"
     ]
    }
   ],
   "source": [
    "sc = SpectralClustering(random_state=0, n_clusters = 10, affinity='nearest_neighbors')\n",
    "preds_sc = sc.fit_predict(X)\n",
    "\n",
    "print(adjusted_rand_score(y, preds_sc))\n",
    "print(homogeneity_completeness_v_measure(y, preds_sc))"
   ]
  }
 ],
 "metadata": {
  "kernelspec": {
   "display_name": "Python 3 (ipykernel)",
   "language": "python",
   "name": "python3"
  },
  "language_info": {
   "codemirror_mode": {
    "name": "ipython",
    "version": 3
   },
   "file_extension": ".py",
   "mimetype": "text/x-python",
   "name": "python",
   "nbconvert_exporter": "python",
   "pygments_lexer": "ipython3",
   "version": "3.10.13"
  }
 },
 "nbformat": 4,
 "nbformat_minor": 5
}
