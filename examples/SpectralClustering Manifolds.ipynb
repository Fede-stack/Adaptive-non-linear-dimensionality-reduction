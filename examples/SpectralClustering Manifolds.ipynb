{
 "cells": [
  {
   "cell_type": "code",
   "execution_count": 1,
   "id": "2e6bfaf9",
   "metadata": {},
   "outputs": [],
   "source": [
    "import pandas as pd\n",
    "from sklearn.cluster import KMeans, SpectralClustering\n",
    "from AdaptiveSpectralClustering import *\n",
    "\n",
    "rng = np.random.default_rng()\n",
    "\n",
    "import warnings\n",
    "warnings.filterwarnings('ignore')"
   ]
  },
  {
   "cell_type": "code",
   "execution_count": 2,
   "id": "d8067a1b",
   "metadata": {},
   "outputs": [],
   "source": [
    "import random \n",
    "np.random.seed(0)\n",
    "random.seed(0)\n",
    "\n",
    "\n",
    "n_osservazioni = 1700\n",
    "n_variabili = 17\n",
    "R, r = 2, 1 \n",
    "a, b = 0.1, 0.1\n",
    "r_sfera = 1  \n",
    "\n",
    "theta = np.linspace(0, 2*np.pi, n_osservazioni)\n",
    "phi = np.linspace(0, 2*np.pi, n_osservazioni)\n",
    "x_toro = (R + r * np.cos(theta)) * np.cos(phi)\n",
    "y_toro = (R + r * np.cos(theta)) * np.sin(phi)\n",
    "z_toro = r * np.sin(theta)\n",
    "toro = np.column_stack((x_toro, y_toro, z_toro))\n",
    "toro = np.hstack([toro]+[np.random.normal(0, 0.05, (n_osservazioni, 3))] + [np.random.normal(0, 0.05, (n_osservazioni, n_variabili - 3))])\n",
    "\n",
    "t = np.linspace(0, 20*np.pi, n_osservazioni)\n",
    "x_spirale = a * t * np.cos(t)\n",
    "y_spirale = a * t * np.sin(t)\n",
    "z_spirale = b * t\n",
    "spirale_3d = np.column_stack((x_spirale, y_spirale, z_spirale))\n",
    "spirale_3d = np.hstack([spirale_3d]+[np.random.normal(0, 0.05, (n_osservazioni, 3))] + [np.random.normal(0, 0.05, (n_osservazioni, n_variabili - 3))])\n",
    "\n",
    "np.random.seed(0)\n",
    "phi = np.random.uniform(0, np.pi, n_osservazioni)\n",
    "theta = np.random.uniform(0, 2*np.pi, n_osservazioni)\n",
    "x_sfera = r_sfera * np.sin(phi) * np.cos(theta)\n",
    "y_sfera = r_sfera * np.sin(phi) * np.sin(theta)\n",
    "z_sfera = r_sfera * np.cos(phi)\n",
    "sfera = np.column_stack((x_sfera, y_sfera, z_sfera))\n",
    "sfera = np.hstack([sfera]+[np.random.normal(0, 0.05, (n_osservazioni, 3))] + [np.random.normal(0, 0.05, (n_osservazioni, n_variabili - 3))])\n",
    "\n",
    "dataframes_complessi = [pd.DataFrame(toro), pd.DataFrame(spirale_3d), pd.DataFrame(sfera)]\n",
    "X = pd.concat(dataframes_complessi, ignore_index=True).values.astype(float)\n",
    "X.shape\n",
    "\n",
    "y = np.repeat(np.arange(0, 3), n_osservazioni)"
   ]
  },
  {
   "cell_type": "code",
   "execution_count": 3,
   "id": "2acd1218",
   "metadata": {},
   "outputs": [
    {
     "name": "stdout",
     "output_type": "stream",
     "text": [
      "iteration  0\n",
      "id  [10.5]\n",
      "iteration  1\n",
      "id  [5.41]\n",
      "iteration  2\n",
      "id  [4.56]\n",
      "iteration  3\n",
      "id  [4.05]\n",
      "iteration  4\n",
      "id  [3.69]\n",
      "iteration  5\n",
      "id  [3.46]\n",
      "iteration  6\n",
      "id  [3.37]\n",
      "iteration  7\n",
      "id  [3.32]\n",
      "iteration  8\n",
      "id  [3.31]\n",
      "iteration  9\n",
      "id  [3.3]\n"
     ]
    }
   ],
   "source": [
    "asc = AdaptiveSpectralClustering(X, n_iter=10)\n",
    "labels = asc.fit(n_clusters=3)"
   ]
  },
  {
   "cell_type": "code",
   "execution_count": 4,
   "id": "083ae677",
   "metadata": {},
   "outputs": [
    {
     "name": "stdout",
     "output_type": "stream",
     "text": [
      "0.6725800289018327\n",
      "(0.6939956955239011, 0.7129223711381317, 0.7033317270371053)\n"
     ]
    }
   ],
   "source": [
    "from sklearn.metrics import adjusted_rand_score, homogeneity_completeness_v_measure\n",
    "print(adjusted_rand_score(y, labels))\n",
    "print(homogeneity_completeness_v_measure(y, labels))"
   ]
  },
  {
   "cell_type": "markdown",
   "id": "efafb56e",
   "metadata": {},
   "source": [
    "# Standard LLE"
   ]
  },
  {
   "cell_type": "code",
   "execution_count": 5,
   "id": "ffc45cd3",
   "metadata": {},
   "outputs": [
    {
     "name": "stdout",
     "output_type": "stream",
     "text": [
      "0.2626520735402502\n",
      "(0.3671484155070117, 0.5332044852557576, 0.43486322249205406)\n"
     ]
    }
   ],
   "source": [
    "sc = SpectralClustering(random_state=0, n_clusters = 3, affinity='nearest_neighbors')\n",
    "preds_sc = sc.fit_predict(X)\n",
    "\n",
    "print(adjusted_rand_score(y, preds_sc))\n",
    "print(homogeneity_completeness_v_measure(y, preds_sc))"
   ]
  }
 ],
 "metadata": {
  "kernelspec": {
   "display_name": "Python 3 (ipykernel)",
   "language": "python",
   "name": "python3"
  },
  "language_info": {
   "codemirror_mode": {
    "name": "ipython",
    "version": 3
   },
   "file_extension": ".py",
   "mimetype": "text/x-python",
   "name": "python",
   "nbconvert_exporter": "python",
   "pygments_lexer": "ipython3",
   "version": "3.10.13"
  }
 },
 "nbformat": 4,
 "nbformat_minor": 5
}
